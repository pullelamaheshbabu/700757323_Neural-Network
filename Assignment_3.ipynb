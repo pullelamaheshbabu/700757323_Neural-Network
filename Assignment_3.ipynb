{
  "nbformat": 4,
  "nbformat_minor": 0,
  "metadata": {
    "colab": {
      "provenance": [],
      "authorship_tag": "ABX9TyNwPZyzCi+uJOlcPrshyLiq",
      "include_colab_link": true
    },
    "kernelspec": {
      "name": "python3",
      "display_name": "Python 3"
    },
    "language_info": {
      "name": "python"
    }
  },
  "cells": [
    {
      "cell_type": "markdown",
      "metadata": {
        "id": "view-in-github",
        "colab_type": "text"
      },
      "source": [
        "<a href=\"https://colab.research.google.com/github/pullelamaheshbabu/700757323_Neural-Network/blob/main/Assignment_3.ipynb\" target=\"_parent\"><img src=\"https://colab.research.google.com/assets/colab-badge.svg\" alt=\"Open In Colab\"/></a>"
      ]
    },
    {
      "cell_type": "code",
      "execution_count": 9,
      "metadata": {
        "colab": {
          "base_uri": "https://localhost:8080/"
        },
        "id": "qvQkFyIAblk8",
        "outputId": "ed5cd4b1-9a7b-4468-80bb-945526ea07e4"
      },
      "outputs": [
        {
          "output_type": "stream",
          "name": "stdout",
          "text": [
            "Average Salary for Employees: 65000.0\n",
            "Average Salary for FullTimeEmployee: 70000.0\n",
            "Total Employees: 3\n"
          ]
        }
      ],
      "source": [
        "#Program 1\n",
        "class Employee:\n",
        "    # Class variable to count the number of employees\n",
        "    employee__count = 0\n",
        "\n",
        "    def __init__(self, name, family, salary, department):\n",
        "        # Instance variables\n",
        "        self.name = name\n",
        "        self.family = family\n",
        "        self.salary = salary\n",
        "        self.department = department\n",
        "\n",
        "        # When a new employee is hired, the employee count is increased.\n",
        "        Employee.employee__count += 1\n",
        "\n",
        "    def average_salary(self, *salaries):\n",
        "        # Calculate and return the average salary\n",
        "        total_salary = sum(salaries) + self.salary\n",
        "        num_employees = len(salaries) + 1  # Include the current instance\n",
        "        return total_salary / num_employees\n",
        "\n",
        "\n",
        "class FullTimeEmployee(Employee):\n",
        "    # Here is where you may add further properties for FullTimeEmployee.\n",
        "\n",
        "    def __init__(self, name, family, salary, department, fulltime_property):\n",
        "        # Call the constructor of the base class (Employee)\n",
        "        super().__init__(name, family, salary, department)\n",
        "\n",
        "        # Additional property specific to FullTimeEmployee\n",
        "        self.fulltime_property = fulltime_property\n",
        "\n",
        "\n",
        "# Create instances of Employee class\n",
        "employee1 = Employee(\"Mahesh M\", \"Family1\", 60000, \"HR\")\n",
        "employee2 = Employee(\"Krishna K\", \"Family2\", 70000, \"IT\")\n",
        "\n",
        "# Call the average_salary function for Employee class\n",
        "average_salary_employee = employee1.average_salary(employee2.salary)\n",
        "print(f\"Average Salary for Employees: {average_salary_employee}\")\n",
        "\n",
        "# Create instances of FullTimeEmployee class\n",
        "fulltime_employee = FullTimeEmployee(\"Alice\", \"Family3\", 70000, \"Finance\", \"FullTimeProperty\")\n",
        "\n",
        "# Use the FullTimeEmployee class's average wage function.\n",
        "average_salary_fulltime_employee = fulltime_employee.average_salary()\n",
        "print(f\"Average Salary for FullTimeEmployee: {average_salary_fulltime_employee}\")\n",
        "\n",
        "# Print the total count of employees\n",
        "print(f\"Total Employees: {Employee.employee__count}\")"
      ]
    },
    {
      "cell_type": "code",
      "source": [
        "# Program2\n",
        "import numpy as np\n",
        "\n",
        "# numpy array with random values in 4 by 5 size\n",
        "randNumArray = np.random.uniform(low=1, high=20, size=(4,5))\n",
        "\n",
        "# finding the indices with maximum values\n",
        "maxIndices = np.argmax(randNumArray, axis=1)\n",
        "\n",
        "# finding the row indices\n",
        "rowIndices = np.arange(randNumArray.shape[0])\n",
        "\n",
        "# determining the array's maximum values' precise locations\n",
        "positionIndices = np.array([rowIndices, maxIndices])\n",
        "\n",
        "# in order to transform the array into a flat index array\n",
        "linearIndices = np.ravel_multi_index(positionIndices, randNumArray.shape)\n",
        "\n",
        "# converting a linear array into a multidimensional one\n",
        "randNumArray.reshape((-1))[linearIndices] = 0\n",
        "\n",
        "print(randNumArray)\n"
      ],
      "metadata": {
        "colab": {
          "base_uri": "https://localhost:8080/"
        },
        "id": "qlpU_bY_bu6t",
        "outputId": "f4838ff4-6401-4d41-bbab-54292e402182"
      },
      "execution_count": 10,
      "outputs": [
        {
          "output_type": "stream",
          "name": "stdout",
          "text": [
            "[[ 4.08295697  9.14722629  2.5169896   3.00615001  0.        ]\n",
            " [10.57168944  0.          1.30313005 16.83957834 15.4334169 ]\n",
            " [ 3.31270167 16.59006794  3.45126077  0.         10.30660316]\n",
            " [11.51858749  0.         12.81488152  9.05426536 15.7009622 ]]\n"
          ]
        }
      ]
    }
  ]
}